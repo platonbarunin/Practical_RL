{
  "cells": [
    {
      "cell_type": "markdown",
      "metadata": {
        "id": "I_i1q1TWG9zH"
      },
      "source": [
        "# Deep Crossentropy method\n",
        "\n",
        "In this section we'll extend your CEM implementation with neural networks! You will train a multi-layer neural network to solve simple continuous state space games. __Please make sure you're done with tabular crossentropy method from the previous notebook.__\n",
        "\n",
        "![img](https://watanimg.elwatannews.com/old_news_images/large/249765_Large_20140709045740_11.jpg)\n",
        "\n"
      ]
    },
    {
      "cell_type": "code",
      "execution_count": 53,
      "metadata": {
        "id": "t4CJ1sRyG9zJ"
      },
      "outputs": [],
      "source": [
        "import sys, os\n",
        "# if 'google.colab' in sys.modules and not os.path.exists('.setup_complete'):\n",
        "#     !wget -q https://raw.githubusercontent.com/yandexdataschool/Practical_RL/master/setup_colab.sh -O- | bash\n",
        "#     !touch .setup_complete\n",
        "\n",
        "# # This code creates a virtual display to draw game images on.\n",
        "# # It will have no effect if your machine has a monitor.\n",
        "# if type(os.environ.get(\"DISPLAY\")) is not str or len(os.environ.get(\"DISPLAY\")) == 0:\n",
        "#     !bash ../xvfb start\n",
        "#     os.environ['DISPLAY'] = ':1'"
      ]
    },
    {
      "cell_type": "code",
      "execution_count": 1,
      "metadata": {
        "id": "C2xd5vPwPVCb",
        "outputId": "60f68e3e-169e-4116-eff7-4862dd9097f6",
        "colab": {
          "base_uri": "https://localhost:8080/"
        }
      },
      "outputs": [
        {
          "output_type": "stream",
          "name": "stdout",
          "text": [
            "Requirement already satisfied: gymnasium[classic_control,toy_text] in /usr/local/lib/python3.11/dist-packages (1.1.1)\n",
            "Requirement already satisfied: numpy>=1.21.0 in /usr/local/lib/python3.11/dist-packages (from gymnasium[classic_control,toy_text]) (2.0.2)\n",
            "Requirement already satisfied: cloudpickle>=1.2.0 in /usr/local/lib/python3.11/dist-packages (from gymnasium[classic_control,toy_text]) (3.1.1)\n",
            "Requirement already satisfied: typing-extensions>=4.3.0 in /usr/local/lib/python3.11/dist-packages (from gymnasium[classic_control,toy_text]) (4.13.1)\n",
            "Requirement already satisfied: farama-notifications>=0.0.1 in /usr/local/lib/python3.11/dist-packages (from gymnasium[classic_control,toy_text]) (0.0.4)\n",
            "Requirement already satisfied: pygame>=2.1.3 in /usr/local/lib/python3.11/dist-packages (from gymnasium[classic_control,toy_text]) (2.6.1)\n"
          ]
        }
      ],
      "source": [
        "# Install gymnasium if you didn't\n",
        "!pip install \"gymnasium[toy_text,classic_control]\""
      ]
    },
    {
      "cell_type": "code",
      "execution_count": 2,
      "metadata": {
        "id": "_2zbc7ahG9zK",
        "outputId": "f6e3cae2-a08e-43f7-cc0b-5060a4de9e1c",
        "colab": {
          "base_uri": "https://localhost:8080/",
          "height": 485
        }
      },
      "outputs": [
        {
          "output_type": "stream",
          "name": "stderr",
          "text": [
            "/usr/local/lib/python3.11/dist-packages/gymnasium/envs/registration.py:519: DeprecationWarning: \u001b[33mWARN: The environment CartPole-v0 is out of date. You should consider upgrading to version `v1`.\u001b[0m\n",
            "  logger.deprecation(\n"
          ]
        },
        {
          "output_type": "stream",
          "name": "stdout",
          "text": [
            "state vector dim = 4\n",
            "n_actions = 2\n"
          ]
        },
        {
          "output_type": "display_data",
          "data": {
            "text/plain": [
              "<Figure size 640x480 with 1 Axes>"
            ],
            "image/png": "[encoded data removed]"
          },
          "metadata": {}
        }
      ],
      "source": [
        "import gymnasium as gym\n",
        "import numpy as np\n",
        "import matplotlib.pyplot as plt\n",
        "%matplotlib inline\n",
        "\n",
        "# if you see \"<classname> has no attribute .env\", remove .env or update gym\n",
        "env = gym.make(\"CartPole-v0\", render_mode=\"rgb_array\").env\n",
        "\n",
        "env.reset()\n",
        "n_actions = env.action_space.n\n",
        "state_dim = env.observation_space.shape[0]\n",
        "\n",
        "plt.imshow(env.render())\n",
        "print(\"state vector dim =\", state_dim)\n",
        "print(\"n_actions =\", n_actions)\n",
        "\n",
        "env.close()"
      ]
    },
    {
      "cell_type": "markdown",
      "metadata": {
        "id": "Z72_alhdG9zK"
      },
      "source": [
        "# Neural Network Policy\n",
        "\n",
        "For this assignment we'll utilize the simplified neural network implementation from __[Scikit-learn](https://scikit-learn.org/stable/modules/generated/sklearn.neural_network.MLPClassifier.html)__. Here's what you'll need:\n",
        "\n",
        "* `agent.partial_fit(states, actions)` - make a single training pass over the data. Maximize the probability of :actions: from :states:\n",
        "* `agent.predict_proba(states)` - predict probabilities of all actions, a matrix of shape __[len(states), n_actions]__\n"
      ]
    },
    {
      "cell_type": "code",
      "source": [
        "env.reset()"
      ],
      "metadata": {
        "id": "BSbogRzaNrcQ",
        "outputId": "3b7beb0c-bbbc-4ba6-8271-1628a2c971e1",
        "colab": {
          "base_uri": "https://localhost:8080/"
        }
      },
      "execution_count": 4,
      "outputs": [
        {
          "output_type": "execute_result",
          "data": {
            "text/plain": [
              "(array([-0.03500013,  0.01616828,  0.02245853,  0.00710334], dtype=float32),\n",
              " {})"
            ]
          },
          "metadata": {},
          "execution_count": 4
        }
      ]
    },
    {
      "cell_type": "code",
      "execution_count": 3,
      "metadata": {
        "id": "wLItY4unG9zL",
        "outputId": "5c85e019-175c-4d22-acde-5bec4044608d",
        "colab": {
          "base_uri": "https://localhost:8080/",
          "height": 80
        }
      },
      "outputs": [
        {
          "output_type": "execute_result",
          "data": {
            "text/plain": [
              "MLPClassifier(activation='tanh', hidden_layer_sizes=(20, 20))"
            ],
            "text/html": [
              "<style>#sk-container-id-1 {\n",
              "  /* Definition of color scheme common for light and dark mode */\n",
              "  --sklearn-color-text: #000;\n",
              "  --sklearn-color-text-muted: #666;\n",
              "  --sklearn-color-line: gray;\n",
              "  /* Definition of color scheme for unfitted estimators */\n",
              "  --sklearn-color-unfitted-level-0: #fff5e6;\n",
              "  --sklearn-color-unfitted-level-1: #f6e4d2;\n",
              "  --sklearn-color-unfitted-level-2: #ffe0b3;\n",
              "  --sklearn-color-unfitted-level-3: chocolate;\n",
              "  /* Definition of color scheme for fitted estimators */\n",
              "  --sklearn-color-fitted-level-0: #f0f8ff;\n",
              "  --sklearn-color-fitted-level-1: #d4ebff;\n",
              "  --sklearn-color-fitted-level-2: #b3dbfd;\n",
              "  --sklearn-color-fitted-level-3: cornflowerblue;\n",
              "\n",
              "  /* Specific color for light theme */\n",
              "  --sklearn-color-text-on-default-background: var(--sg-text-color, var(--theme-code-foreground, var(--jp-content-font-color1, black)));\n",
              "  --sklearn-color-background: var(--sg-background-color, var(--theme-background, var(--jp-layout-color0, white)));\n",
              "  --sklearn-color-border-box: var(--sg-text-color, var(--theme-code-foreground, var(--jp-content-font-color1, black)));\n",
              "  --sklearn-color-icon: #696969;\n",
              "\n",
              "  @media (prefers-color-scheme: dark) {\n",
              "    /* Redefinition of color scheme for dark theme */\n",
              "    --sklearn-color-text-on-default-background: var(--sg-text-color, var(--theme-code-foreground, var(--jp-content-font-color1, white)));\n",
              "    --sklearn-color-background: var(--sg-background-color, var(--theme-background, var(--jp-layout-color0, #111)));\n",
              "    --sklearn-color-border-box: var(--sg-text-color, var(--theme-code-foreground, var(--jp-content-font-color1, white)));\n",
              "    --sklearn-color-icon: #878787;\n",
              "  }\n",
              "}\n",
              "\n",
              "#sk-container-id-1 {\n",
              "  color: var(--sklearn-color-text);\n",
              "}\n",
              "\n",
              "#sk-container-id-1 pre {\n",
              "  padding: 0;\n",
              "}\n",
              "\n",
              "#sk-container-id-1 input.sk-hidden--visually {\n",
              "  border: 0;\n",
              "  clip: rect(1px 1px 1px 1px);\n",
              "  clip: rect(1px, 1px, 1px, 1px);\n",
              "  height: 1px;\n",
              "  margin: -1px;\n",
              "  overflow: hidden;\n",
              "  padding: 0;\n",
              "  position: absolute;\n",
              "  width: 1px;\n",
              "}\n",
              "\n",
              "#sk-container-id-1 div.sk-dashed-wrapped {\n",
              "  border: 1px dashed var(--sklearn-color-line);\n",
              "  margin: 0 0.4em 0.5em 0.4em;\n",
              "  box-sizing: border-box;\n",
              "  padding-bottom: 0.4em;\n",
              "  background-color: var(--sklearn-color-background);\n",
              "}\n",
              "\n",
              "#sk-container-id-1 div.sk-container {\n",
              "  /* jupyter's `normalize.less` sets `[hidden] { display: none; }`\n",
              "     but bootstrap.min.css set `[hidden] { display: none !important; }`\n",
              "     so we also need the `!important` here to be able to override the\n",
              "     default hidden behavior on the sphinx rendered scikit-learn.org.\n",
              "     See: https://github.com/scikit-learn/scikit-learn/issues/21755 */\n",
              "  display: inline-block !important;\n",
              "  position: relative;\n",
              "}\n",
              "\n",
              "#sk-container-id-1 div.sk-text-repr-fallback {\n",
              "  display: none;\n",
              "}\n",
              "\n",
              "div.sk-parallel-item,\n",
              "div.sk-serial,\n",
              "div.sk-item {\n",
              "  /* draw centered vertical line to link estimators */\n",
              "  background-image: linear-gradient(var(--sklearn-color-text-on-default-background), var(--sklearn-color-text-on-default-background));\n",
              "  background-size: 2px 100%;\n",
              "  background-repeat: no-repeat;\n",
              "  background-position: center center;\n",
              "}\n",
              "\n",
              "/* Parallel-specific style estimator block */\n",
              "\n",
              "#sk-container-id-1 div.sk-parallel-item::after {\n",
              "  content: \"\";\n",
              "  width: 100%;\n",
              "  border-bottom: 2px solid var(--sklearn-color-text-on-default-background);\n",
              "  flex-grow: 1;\n",
              "}\n",
              "\n",
              "#sk-container-id-1 div.sk-parallel {\n",
              "  display: flex;\n",
              "  align-items: stretch;\n",
              "  justify-content: center;\n",
              "  background-color: var(--sklearn-color-background);\n",
              "  position: relative;\n",
              "}\n",
              "\n",
              "#sk-container-id-1 div.sk-parallel-item {\n",
              "  display: flex;\n",
              "  flex-direction: column;\n",
              "}\n",
              "\n",
              "#sk-container-id-1 div.sk-parallel-item:first-child::after {\n",
              "  align-self: flex-end;\n",
              "  width: 50%;\n",
              "}\n",
              "\n",
              "#sk-container-id-1 div.sk-parallel-item:last-child::after {\n",
              "  align-self: flex-start;\n",
              "  width: 50%;\n",
              "}\n",
              "\n",
              "#sk-container-id-1 div.sk-parallel-item:only-child::after {\n",
              "  width: 0;\n",
              "}\n",
              "\n",
              "/* Serial-specific style estimator block */\n",
              "\n",
              "#sk-container-id-1 div.sk-serial {\n",
              "  display: flex;\n",
              "  flex-direction: column;\n",
              "  align-items: center;\n",
              "  background-color: var(--sklearn-color-background);\n",
              "  padding-right: 1em;\n",
              "  padding-left: 1em;\n",
              "}\n",
              "\n",
              "\n",
              "/* Toggleable style: style used for estimator/Pipeline/ColumnTransformer box that is\n",
              "clickable and can be expanded/collapsed.\n",
              "- Pipeline and ColumnTransformer use this feature and define the default style\n",
              "- Estimators will overwrite some part of the style using the `sk-estimator` class\n",
              "*/\n",
              "\n",
              "/* Pipeline and ColumnTransformer style (default) */\n",
              "\n",
              "#sk-container-id-1 div.sk-toggleable {\n",
              "  /* Default theme specific background. It is overwritten whether we have a\n",
              "  specific estimator or a Pipeline/ColumnTransformer */\n",
              "  background-color: var(--sklearn-color-background);\n",
              "}\n",
              "\n",
              "/* Toggleable label */\n",
              "#sk-container-id-1 label.sk-toggleable__label {\n",
              "  cursor: pointer;\n",
              "  display: flex;\n",
              "  width: 100%;\n",
              "  margin-bottom: 0;\n",
              "  padding: 0.5em;\n",
              "  box-sizing: border-box;\n",
              "  text-align: center;\n",
              "  align-items: start;\n",
              "  justify-content: space-between;\n",
              "  gap: 0.5em;\n",
              "}\n",
              "\n",
              "#sk-container-id-1 label.sk-toggleable__label .caption {\n",
              "  font-size: 0.6rem;\n",
              "  font-weight: lighter;\n",
              "  color: var(--sklearn-color-text-muted);\n",
              "}\n",
              "\n",
              "#sk-container-id-1 label.sk-toggleable__label-arrow:before {\n",
              "  /* Arrow on the left of the label */\n",
              "  content: \"▸\";\n",
              "  float: left;\n",
              "  margin-right: 0.25em;\n",
              "  color: var(--sklearn-color-icon);\n",
              "}\n",
              "\n",
              "#sk-container-id-1 label.sk-toggleable__label-arrow:hover:before {\n",
              "  color: var(--sklearn-color-text);\n",
              "}\n",
              "\n",
              "/* Toggleable content - dropdown */\n",
              "\n",
              "#sk-container-id-1 div.sk-toggleable__content {\n",
              "  max-height: 0;\n",
              "  max-width: 0;\n",
              "  overflow: hidden;\n",
              "  text-align: left;\n",
              "  /* unfitted */\n",
              "  background-color: var(--sklearn-color-unfitted-level-0);\n",
              "}\n",
              "\n",
              "#sk-container-id-1 div.sk-toggleable__content.fitted {\n",
              "  /* fitted */\n",
              "  background-color: var(--sklearn-color-fitted-level-0);\n",
              "}\n",
              "\n",
              "#sk-container-id-1 div.sk-toggleable__content pre {\n",
              "  margin: 0.2em;\n",
              "  border-radius: 0.25em;\n",
              "  color: var(--sklearn-color-text);\n",
              "  /* unfitted */\n",
              "  background-color: var(--sklearn-color-unfitted-level-0);\n",
              "}\n",
              "\n",
              "#sk-container-id-1 div.sk-toggleable__content.fitted pre {\n",
              "  /* unfitted */\n",
              "  background-color: var(--sklearn-color-fitted-level-0);\n",
              "}\n",
              "\n",
              "#sk-container-id-1 input.sk-toggleable__control:checked~div.sk-toggleable__content {\n",
              "  /* Expand drop-down */\n",
              "  max-height: 200px;\n",
              "  max-width: 100%;\n",
              "  overflow: auto;\n",
              "}\n",
              "\n",
              "#sk-container-id-1 input.sk-toggleable__control:checked~label.sk-toggleable__label-arrow:before {\n",
              "  content: \"▾\";\n",
              "}\n",
              "\n",
              "/* Pipeline/ColumnTransformer-specific style */\n",
              "\n",
              "#sk-container-id-1 div.sk-label input.sk-toggleable__control:checked~label.sk-toggleable__label {\n",
              "  color: var(--sklearn-color-text);\n",
              "  background-color: var(--sklearn-color-unfitted-level-2);\n",
              "}\n",
              "\n",
              "#sk-container-id-1 div.sk-label.fitted input.sk-toggleable__control:checked~label.sk-toggleable__label {\n",
              "  background-color: var(--sklearn-color-fitted-level-2);\n",
              "}\n",
              "\n",
              "/* Estimator-specific style */\n",
              "\n",
              "/* Colorize estimator box */\n",
              "#sk-container-id-1 div.sk-estimator input.sk-toggleable__control:checked~label.sk-toggleable__label {\n",
              "  /* unfitted */\n",
              "  background-color: var(--sklearn-color-unfitted-level-2);\n",
              "}\n",
              "\n",
              "#sk-container-id-1 div.sk-estimator.fitted input.sk-toggleable__control:checked~label.sk-toggleable__label {\n",
              "  /* fitted */\n",
              "  background-color: var(--sklearn-color-fitted-level-2);\n",
              "}\n",
              "\n",
              "#sk-container-id-1 div.sk-label label.sk-toggleable__label,\n",
              "#sk-container-id-1 div.sk-label label {\n",
              "  /* The background is the default theme color */\n",
              "  color: var(--sklearn-color-text-on-default-background);\n",
              "}\n",
              "\n",
              "/* On hover, darken the color of the background */\n",
              "#sk-container-id-1 div.sk-label:hover label.sk-toggleable__label {\n",
              "  color: var(--sklearn-color-text);\n",
              "  background-color: var(--sklearn-color-unfitted-level-2);\n",
              "}\n",
              "\n",
              "/* Label box, darken color on hover, fitted */\n",
              "#sk-container-id-1 div.sk-label.fitted:hover label.sk-toggleable__label.fitted {\n",
              "  color: var(--sklearn-color-text);\n",
              "  background-color: var(--sklearn-color-fitted-level-2);\n",
              "}\n",
              "\n",
              "/* Estimator label */\n",
              "\n",
              "#sk-container-id-1 div.sk-label label {\n",
              "  font-family: monospace;\n",
              "  font-weight: bold;\n",
              "  display: inline-block;\n",
              "  line-height: 1.2em;\n",
              "}\n",
              "\n",
              "#sk-container-id-1 div.sk-label-container {\n",
              "  text-align: center;\n",
              "}\n",
              "\n",
              "/* Estimator-specific */\n",
              "#sk-container-id-1 div.sk-estimator {\n",
              "  font-family: monospace;\n",
              "  border: 1px dotted var(--sklearn-color-border-box);\n",
              "  border-radius: 0.25em;\n",
              "  box-sizing: border-box;\n",
              "  margin-bottom: 0.5em;\n",
              "  /* unfitted */\n",
              "  background-color: var(--sklearn-color-unfitted-level-0);\n",
              "}\n",
              "\n",
              "#sk-container-id-1 div.sk-estimator.fitted {\n",
              "  /* fitted */\n",
              "  background-color: var(--sklearn-color-fitted-level-0);\n",
              "}\n",
              "\n",
              "/* on hover */\n",
              "#sk-container-id-1 div.sk-estimator:hover {\n",
              "  /* unfitted */\n",
              "  background-color: var(--sklearn-color-unfitted-level-2);\n",
              "}\n",
              "\n",
              "#sk-container-id-1 div.sk-estimator.fitted:hover {\n",
              "  /* fitted */\n",
              "  background-color: var(--sklearn-color-fitted-level-2);\n",
              "}\n",
              "\n",
              "/* Specification for estimator info (e.g. \"i\" and \"?\") */\n",
              "\n",
              "/* Common style for \"i\" and \"?\" */\n",
              "\n",
              ".sk-estimator-doc-link,\n",
              "a:link.sk-estimator-doc-link,\n",
              "a:visited.sk-estimator-doc-link {\n",
              "  float: right;\n",
              "  font-size: smaller;\n",
              "  line-height: 1em;\n",
              "  font-family: monospace;\n",
              "  background-color: var(--sklearn-color-background);\n",
              "  border-radius: 1em;\n",
              "  height: 1em;\n",
              "  width: 1em;\n",
              "  text-decoration: none !important;\n",
              "  margin-left: 0.5em;\n",
              "  text-align: center;\n",
              "  /* unfitted */\n",
              "  border: var(--sklearn-color-unfitted-level-1) 1pt solid;\n",
              "  color: var(--sklearn-color-unfitted-level-1);\n",
              "}\n",
              "\n",
              ".sk-estimator-doc-link.fitted,\n",
              "a:link.sk-estimator-doc-link.fitted,\n",
              "a:visited.sk-estimator-doc-link.fitted {\n",
              "  /* fitted */\n",
              "  border: var(--sklearn-color-fitted-level-1) 1pt solid;\n",
              "  color: var(--sklearn-color-fitted-level-1);\n",
              "}\n",
              "\n",
              "/* On hover */\n",
              "div.sk-estimator:hover .sk-estimator-doc-link:hover,\n",
              ".sk-estimator-doc-link:hover,\n",
              "div.sk-label-container:hover .sk-estimator-doc-link:hover,\n",
              ".sk-estimator-doc-link:hover {\n",
              "  /* unfitted */\n",
              "  background-color: var(--sklearn-color-unfitted-level-3);\n",
              "  color: var(--sklearn-color-background);\n",
              "  text-decoration: none;\n",
              "}\n",
              "\n",
              "div.sk-estimator.fitted:hover .sk-estimator-doc-link.fitted:hover,\n",
              ".sk-estimator-doc-link.fitted:hover,\n",
              "div.sk-label-container:hover .sk-estimator-doc-link.fitted:hover,\n",
              ".sk-estimator-doc-link.fitted:hover {\n",
              "  /* fitted */\n",
              "  background-color: var(--sklearn-color-fitted-level-3);\n",
              "  color: var(--sklearn-color-background);\n",
              "  text-decoration: none;\n",
              "}\n",
              "\n",
              "/* Span, style for the box shown on hovering the info icon */\n",
              ".sk-estimator-doc-link span {\n",
              "  display: none;\n",
              "  z-index: 9999;\n",
              "  position: relative;\n",
              "  font-weight: normal;\n",
              "  right: .2ex;\n",
              "  padding: .5ex;\n",
              "  margin: .5ex;\n",
              "  width: min-content;\n",
              "  min-width: 20ex;\n",
              "  max-width: 50ex;\n",
              "  color: var(--sklearn-color-text);\n",
              "  box-shadow: 2pt 2pt 4pt #999;\n",
              "  /* unfitted */\n",
              "  background: var(--sklearn-color-unfitted-level-0);\n",
              "  border: .5pt solid var(--sklearn-color-unfitted-level-3);\n",
              "}\n",
              "\n",
              ".sk-estimator-doc-link.fitted span {\n",
              "  /* fitted */\n",
              "  background: var(--sklearn-color-fitted-level-0);\n",
              "  border: var(--sklearn-color-fitted-level-3);\n",
              "}\n",
              "\n",
              ".sk-estimator-doc-link:hover span {\n",
              "  display: block;\n",
              "}\n",
              "\n",
              "/* \"?\"-specific style due to the `<a>` HTML tag */\n",
              "\n",
              "#sk-container-id-1 a.estimator_doc_link {\n",
              "  float: right;\n",
              "  font-size: 1rem;\n",
              "  line-height: 1em;\n",
              "  font-family: monospace;\n",
              "  background-color: var(--sklearn-color-background);\n",
              "  border-radius: 1rem;\n",
              "  height: 1rem;\n",
              "  width: 1rem;\n",
              "  text-decoration: none;\n",
              "  /* unfitted */\n",
              "  color: var(--sklearn-color-unfitted-level-1);\n",
              "  border: var(--sklearn-color-unfitted-level-1) 1pt solid;\n",
              "}\n",
              "\n",
              "#sk-container-id-1 a.estimator_doc_link.fitted {\n",
              "  /* fitted */\n",
              "  border: var(--sklearn-color-fitted-level-1) 1pt solid;\n",
              "  color: var(--sklearn-color-fitted-level-1);\n",
              "}\n",
              "\n",
              "/* On hover */\n",
              "#sk-container-id-1 a.estimator_doc_link:hover {\n",
              "  /* unfitted */\n",
              "  background-color: var(--sklearn-color-unfitted-level-3);\n",
              "  color: var(--sklearn-color-background);\n",
              "  text-decoration: none;\n",
              "}\n",
              "\n",
              "#sk-container-id-1 a.estimator_doc_link.fitted:hover {\n",
              "  /* fitted */\n",
              "  background-color: var(--sklearn-color-fitted-level-3);\n",
              "}\n",
              "</style><div id=\"sk-container-id-1\" class=\"sk-top-container\"><div class=\"sk-text-repr-fallback\"><pre>MLPClassifier(activation=&#x27;tanh&#x27;, hidden_layer_sizes=(20, 20))</pre><b>In a Jupyter environment, please rerun this cell to show the HTML representation or trust the notebook. <br />On GitHub, the HTML representation is unable to render, please try loading this page with nbviewer.org.</b></div><div class=\"sk-container\" hidden><div class=\"sk-item\"><div class=\"sk-estimator fitted sk-toggleable\"><input class=\"sk-toggleable__control sk-hidden--visually\" id=\"sk-estimator-id-1\" type=\"checkbox\" checked><label for=\"sk-estimator-id-1\" class=\"sk-toggleable__label fitted sk-toggleable__label-arrow\"><div><div>MLPClassifier</div></div><div><a class=\"sk-estimator-doc-link fitted\" rel=\"noreferrer\" target=\"_blank\" href=\"https://scikit-learn.org/1.6/modules/generated/sklearn.neural_network.MLPClassifier.html\">?<span>Documentation for MLPClassifier</span></a><span class=\"sk-estimator-doc-link fitted\">i<span>Fitted</span></span></div></label><div class=\"sk-toggleable__content fitted\"><pre>MLPClassifier(activation=&#x27;tanh&#x27;, hidden_layer_sizes=(20, 20))</pre></div> </div></div></div></div>"
            ]
          },
          "metadata": {},
          "execution_count": 3
        }
      ],
      "source": [
        "from sklearn.neural_network import MLPClassifier\n",
        "\n",
        "agent = MLPClassifier(\n",
        "    hidden_layer_sizes=(20, 20),\n",
        "    activation=\"tanh\",\n",
        ")\n",
        "\n",
        "# initialize agent to the dimension of state space and number of actions\n",
        "agent.partial_fit([env.reset()[0]] * n_actions, range(n_actions), range(n_actions))\n"
      ]
    },
    {
      "cell_type": "code",
      "source": [
        "s, _ = env.reset()\n",
        "p=agent.predict_proba(s)[0]\n",
        "np.random.choice(list(range(n_actions)), p=p)\n"
      ],
      "metadata": {
        "id": "UB9NzQ09N7bm",
        "outputId": "63cc3d61-cfa0-49f6-af1a-4b32b76e2c8b",
        "colab": {
          "base_uri": "https://localhost:8080/",
          "height": 373
        }
      },
      "execution_count": 40,
      "outputs": [
        {
          "output_type": "error",
          "ename": "ValueError",
          "evalue": "Expected 2D array, got 1D array instead:\narray=[-0.04879956  0.02037428 -0.03486157 -0.04418169].\nReshape your data either using array.reshape(-1, 1) if your data has a single feature or array.reshape(1, -1) if it contains a single sample.",
          "traceback": [
            "\u001b[0;31m---------------------------------------------------------------------------\u001b[0m",
            "\u001b[0;31mValueError\u001b[0m                                Traceback (most recent call last)",
            "\u001b[0;32m<ipython-input-40-f18c63ff2acb>\u001b[0m in \u001b[0;36m<cell line: 0>\u001b[0;34m()\u001b[0m\n\u001b[1;32m      1\u001b[0m \u001b[0ms\u001b[0m\u001b[0;34m,\u001b[0m \u001b[0m_\u001b[0m \u001b[0;34m=\u001b[0m \u001b[0menv\u001b[0m\u001b[0;34m.\u001b[0m\u001b[0mreset\u001b[0m\u001b[0;34m(\u001b[0m\u001b[0;34m)\u001b[0m\u001b[0;34m\u001b[0m\u001b[0;34m\u001b[0m\u001b[0m\n\u001b[0;32m----> 2\u001b[0;31m \u001b[0mp\u001b[0m\u001b[0;34m=\u001b[0m\u001b[0magent\u001b[0m\u001b[0;34m.\u001b[0m\u001b[0mpredict_proba\u001b[0m\u001b[0;34m(\u001b[0m\u001b[0ms\u001b[0m\u001b[0;34m)\u001b[0m\u001b[0;34m[\u001b[0m\u001b[0;36m0\u001b[0m\u001b[0;34m]\u001b[0m\u001b[0;34m\u001b[0m\u001b[0;34m\u001b[0m\u001b[0m\n\u001b[0m\u001b[1;32m      3\u001b[0m \u001b[0mnp\u001b[0m\u001b[0;34m.\u001b[0m\u001b[0mrandom\u001b[0m\u001b[0;34m.\u001b[0m\u001b[0mchoice\u001b[0m\u001b[0;34m(\u001b[0m\u001b[0mlist\u001b[0m\u001b[0;34m(\u001b[0m\u001b[0mrange\u001b[0m\u001b[0;34m(\u001b[0m\u001b[0mn_actions\u001b[0m\u001b[0;34m)\u001b[0m\u001b[0;34m)\u001b[0m\u001b[0;34m,\u001b[0m \u001b[0mp\u001b[0m\u001b[0;34m=\u001b[0m\u001b[0mp\u001b[0m\u001b[0;34m)\u001b[0m\u001b[0;34m\u001b[0m\u001b[0;34m\u001b[0m\u001b[0m\n",
            "\u001b[0;32m/usr/local/lib/python3.11/dist-packages/sklearn/neural_network/_multilayer_perceptron.py\u001b[0m in \u001b[0;36mpredict_proba\u001b[0;34m(self, X)\u001b[0m\n\u001b[1;32m   1262\u001b[0m         \"\"\"\n\u001b[1;32m   1263\u001b[0m         \u001b[0mcheck_is_fitted\u001b[0m\u001b[0;34m(\u001b[0m\u001b[0mself\u001b[0m\u001b[0;34m)\u001b[0m\u001b[0;34m\u001b[0m\u001b[0;34m\u001b[0m\u001b[0m\n\u001b[0;32m-> 1264\u001b[0;31m         \u001b[0my_pred\u001b[0m \u001b[0;34m=\u001b[0m \u001b[0mself\u001b[0m\u001b[0;34m.\u001b[0m\u001b[0m_forward_pass_fast\u001b[0m\u001b[0;34m(\u001b[0m\u001b[0mX\u001b[0m\u001b[0;34m)\u001b[0m\u001b[0;34m\u001b[0m\u001b[0;34m\u001b[0m\u001b[0m\n\u001b[0m\u001b[1;32m   1265\u001b[0m \u001b[0;34m\u001b[0m\u001b[0m\n\u001b[1;32m   1266\u001b[0m         \u001b[0;32mif\u001b[0m \u001b[0mself\u001b[0m\u001b[0;34m.\u001b[0m\u001b[0mn_outputs_\u001b[0m \u001b[0;34m==\u001b[0m \u001b[0;36m1\u001b[0m\u001b[0;34m:\u001b[0m\u001b[0;34m\u001b[0m\u001b[0;34m\u001b[0m\u001b[0m\n",
            "\u001b[0;32m/usr/local/lib/python3.11/dist-packages/sklearn/neural_network/_multilayer_perceptron.py\u001b[0m in \u001b[0;36m_forward_pass_fast\u001b[0;34m(self, X, check_input)\u001b[0m\n\u001b[1;32m    202\u001b[0m         \"\"\"\n\u001b[1;32m    203\u001b[0m         \u001b[0;32mif\u001b[0m \u001b[0mcheck_input\u001b[0m\u001b[0;34m:\u001b[0m\u001b[0;34m\u001b[0m\u001b[0;34m\u001b[0m\u001b[0m\n\u001b[0;32m--> 204\u001b[0;31m             \u001b[0mX\u001b[0m \u001b[0;34m=\u001b[0m \u001b[0mvalidate_data\u001b[0m\u001b[0;34m(\u001b[0m\u001b[0mself\u001b[0m\u001b[0;34m,\u001b[0m \u001b[0mX\u001b[0m\u001b[0;34m,\u001b[0m \u001b[0maccept_sparse\u001b[0m\u001b[0;34m=\u001b[0m\u001b[0;34m[\u001b[0m\u001b[0;34m\"csr\"\u001b[0m\u001b[0;34m,\u001b[0m \u001b[0;34m\"csc\"\u001b[0m\u001b[0;34m]\u001b[0m\u001b[0;34m,\u001b[0m \u001b[0mreset\u001b[0m\u001b[0;34m=\u001b[0m\u001b[0;32mFalse\u001b[0m\u001b[0;34m)\u001b[0m\u001b[0;34m\u001b[0m\u001b[0;34m\u001b[0m\u001b[0m\n\u001b[0m\u001b[1;32m    205\u001b[0m \u001b[0;34m\u001b[0m\u001b[0m\n\u001b[1;32m    206\u001b[0m         \u001b[0;31m# Initialize first layer\u001b[0m\u001b[0;34m\u001b[0m\u001b[0;34m\u001b[0m\u001b[0m\n",
            "\u001b[0;32m/usr/local/lib/python3.11/dist-packages/sklearn/utils/validation.py\u001b[0m in \u001b[0;36mvalidate_data\u001b[0;34m(_estimator, X, y, reset, validate_separately, skip_check_array, **check_params)\u001b[0m\n\u001b[1;32m   2942\u001b[0m             \u001b[0mout\u001b[0m \u001b[0;34m=\u001b[0m \u001b[0mX\u001b[0m\u001b[0;34m,\u001b[0m \u001b[0my\u001b[0m\u001b[0;34m\u001b[0m\u001b[0;34m\u001b[0m\u001b[0m\n\u001b[1;32m   2943\u001b[0m     \u001b[0;32melif\u001b[0m \u001b[0;32mnot\u001b[0m \u001b[0mno_val_X\u001b[0m \u001b[0;32mand\u001b[0m \u001b[0mno_val_y\u001b[0m\u001b[0;34m:\u001b[0m\u001b[0;34m\u001b[0m\u001b[0;34m\u001b[0m\u001b[0m\n\u001b[0;32m-> 2944\u001b[0;31m         \u001b[0mout\u001b[0m \u001b[0;34m=\u001b[0m \u001b[0mcheck_array\u001b[0m\u001b[0;34m(\u001b[0m\u001b[0mX\u001b[0m\u001b[0;34m,\u001b[0m \u001b[0minput_name\u001b[0m\u001b[0;34m=\u001b[0m\u001b[0;34m\"X\"\u001b[0m\u001b[0;34m,\u001b[0m \u001b[0;34m**\u001b[0m\u001b[0mcheck_params\u001b[0m\u001b[0;34m)\u001b[0m\u001b[0;34m\u001b[0m\u001b[0;34m\u001b[0m\u001b[0m\n\u001b[0m\u001b[1;32m   2945\u001b[0m     \u001b[0;32melif\u001b[0m \u001b[0mno_val_X\u001b[0m \u001b[0;32mand\u001b[0m \u001b[0;32mnot\u001b[0m \u001b[0mno_val_y\u001b[0m\u001b[0;34m:\u001b[0m\u001b[0;34m\u001b[0m\u001b[0;34m\u001b[0m\u001b[0m\n\u001b[1;32m   2946\u001b[0m         \u001b[0mout\u001b[0m \u001b[0;34m=\u001b[0m \u001b[0m_check_y\u001b[0m\u001b[0;34m(\u001b[0m\u001b[0my\u001b[0m\u001b[0;34m,\u001b[0m \u001b[0;34m**\u001b[0m\u001b[0mcheck_params\u001b[0m\u001b[0;34m)\u001b[0m\u001b[0;34m\u001b[0m\u001b[0;34m\u001b[0m\u001b[0m\n",
            "\u001b[0;32m/usr/local/lib/python3.11/dist-packages/sklearn/utils/validation.py\u001b[0m in \u001b[0;36mcheck_array\u001b[0;34m(array, accept_sparse, accept_large_sparse, dtype, order, copy, force_writeable, force_all_finite, ensure_all_finite, ensure_non_negative, ensure_2d, allow_nd, ensure_min_samples, ensure_min_features, estimator, input_name)\u001b[0m\n\u001b[1;32m   1091\u001b[0m                         \u001b[0;34m\"if it contains a single sample.\"\u001b[0m\u001b[0;34m\u001b[0m\u001b[0;34m\u001b[0m\u001b[0m\n\u001b[1;32m   1092\u001b[0m                     )\n\u001b[0;32m-> 1093\u001b[0;31m                 \u001b[0;32mraise\u001b[0m \u001b[0mValueError\u001b[0m\u001b[0;34m(\u001b[0m\u001b[0mmsg\u001b[0m\u001b[0;34m)\u001b[0m\u001b[0;34m\u001b[0m\u001b[0;34m\u001b[0m\u001b[0m\n\u001b[0m\u001b[1;32m   1094\u001b[0m \u001b[0;34m\u001b[0m\u001b[0m\n\u001b[1;32m   1095\u001b[0m         \u001b[0;32mif\u001b[0m \u001b[0mdtype_numeric\u001b[0m \u001b[0;32mand\u001b[0m \u001b[0mhasattr\u001b[0m\u001b[0;34m(\u001b[0m\u001b[0marray\u001b[0m\u001b[0;34m.\u001b[0m\u001b[0mdtype\u001b[0m\u001b[0;34m,\u001b[0m \u001b[0;34m\"kind\"\u001b[0m\u001b[0;34m)\u001b[0m \u001b[0;32mand\u001b[0m \u001b[0marray\u001b[0m\u001b[0;34m.\u001b[0m\u001b[0mdtype\u001b[0m\u001b[0;34m.\u001b[0m\u001b[0mkind\u001b[0m \u001b[0;32min\u001b[0m \u001b[0;34m\"USV\"\u001b[0m\u001b[0;34m:\u001b[0m\u001b[0;34m\u001b[0m\u001b[0;34m\u001b[0m\u001b[0m\n",
            "\u001b[0;31mValueError\u001b[0m: Expected 2D array, got 1D array instead:\narray=[-0.04879956  0.02037428 -0.03486157 -0.04418169].\nReshape your data either using array.reshape(-1, 1) if your data has a single feature or array.reshape(1, -1) if it contains a single sample."
          ]
        }
      ]
    },
    {
      "cell_type": "code",
      "execution_count": 41,
      "metadata": {
        "id": "eyFS3oUmG9zL"
      },
      "outputs": [],
      "source": [
        "def generate_session(env, agent, t_max=1000):\n",
        "    \"\"\"\n",
        "    Play a single game using agent neural network.\n",
        "    Terminate when game finishes or after :t_max: steps\n",
        "    \"\"\"\n",
        "    states, actions = [], []\n",
        "    total_reward = 0\n",
        "\n",
        "    s, _ = env.reset()\n",
        "\n",
        "    for t in range(t_max):\n",
        "\n",
        "        # use agent to predict a vector of action probabilities for state :s:\n",
        "        probs = agent.predict_proba([s])[0]\n",
        "\n",
        "        assert probs.shape == (env.action_space.n,), \"make sure probabilities are a vector (hint: np.reshape)\"\n",
        "\n",
        "        # use the probabilities you predicted to pick an action\n",
        "        # sample proportionally to the probabilities, don't just take the most likely action\n",
        "        a = np.random.choice(list(range(n_actions)), p=probs)\n",
        "        # ^-- hint: try np.random.choice\n",
        "\n",
        "        new_s, r, terminated, truncated, _ = env.step(a)\n",
        "\n",
        "        # record sessions like you did before\n",
        "        states.append(s)\n",
        "        actions.append(a)\n",
        "        total_reward += r\n",
        "\n",
        "        s = new_s\n",
        "        if terminated or truncated:\n",
        "            break\n",
        "    return states, actions, total_reward\n"
      ]
    },
    {
      "cell_type": "code",
      "execution_count": 42,
      "metadata": {
        "id": "4xgrTCgJG9zL",
        "outputId": "4ada9c4e-fae7-4774-f785-e3c551ac45fc",
        "colab": {
          "base_uri": "https://localhost:8080/"
        }
      },
      "outputs": [
        {
          "output_type": "stream",
          "name": "stdout",
          "text": [
            "states: [[ 0.02333828 -0.02009222 -0.01377365  0.01155261]\n",
            " [ 0.02293644 -0.21501395 -0.0135426   0.29985815]\n",
            " [ 0.01863616 -0.01970161 -0.00754544  0.00293511]\n",
            " [ 0.01824212  0.17552774 -0.00748673 -0.2921189 ]\n",
            " [ 0.02175268  0.3707556  -0.01332911 -0.5871536 ]]\n",
            "actions: [np.int64(0), np.int64(1), np.int64(1), np.int64(1), np.int64(1)]\n",
            "reward: 5.0\n"
          ]
        }
      ],
      "source": [
        "dummy_states, dummy_actions, dummy_reward = generate_session(env, agent, t_max=5)\n",
        "print(\"states:\", np.stack(dummy_states))\n",
        "print(\"actions:\", dummy_actions)\n",
        "print(\"reward:\", dummy_reward)\n"
      ]
    },
    {
      "cell_type": "markdown",
      "metadata": {
        "id": "p85lt16qG9zL"
      },
      "source": [
        "### CEM steps\n",
        "Deep CEM uses exactly the same strategy as the regular CEM, so you can copy your function code from previous notebook.\n",
        "\n",
        "The only difference is that now each observation is not a number but a `float32` vector."
      ]
    },
    {
      "cell_type": "code",
      "execution_count": 43,
      "metadata": {
        "id": "4On-p7p4G9zL"
      },
      "outputs": [],
      "source": [
        "def select_elites(states_batch, actions_batch, rewards_batch, percentile=50):\n",
        "    \"\"\"\n",
        "    Select states and actions from games that have rewards >= percentile\n",
        "    :param states_batch: list of lists of states, states_batch[session_i][t]\n",
        "    :param actions_batch: list of lists of actions, actions_batch[session_i][t]\n",
        "    :param rewards_batch: list of rewards, rewards_batch[session_i]\n",
        "\n",
        "    :returns: elite_states,elite_actions, both 1D lists of states and respective actions from elite sessions\n",
        "\n",
        "    Please return elite states and actions in their original order\n",
        "    [i.e. sorted by session number and timestep within session]\n",
        "\n",
        "    If you are confused, see examples below. Please don't assume that states are integers\n",
        "    (they will become different later).\n",
        "    \"\"\"\n",
        "\n",
        "    reward_threshold = np.percentile(rewards_batch, percentile)\n",
        "\n",
        "    elite_states = []\n",
        "    elite_actions = []\n",
        "\n",
        "    for i in range(len(rewards_batch)):\n",
        "        if rewards_batch[i] >= reward_threshold:\n",
        "          elite_states.extend(states_batch[i])\n",
        "          elite_actions.extend(actions_batch[i])\n",
        "\n",
        "    return elite_states, elite_actions\n"
      ]
    },
    {
      "cell_type": "markdown",
      "metadata": {
        "id": "xc40V4DaG9zM"
      },
      "source": [
        "# Training loop\n",
        "Generate sessions, select N best and fit to those."
      ]
    },
    {
      "cell_type": "code",
      "execution_count": 44,
      "metadata": {
        "id": "PPwVKwF7G9zM"
      },
      "outputs": [],
      "source": [
        "from IPython.display import clear_output\n",
        "\n",
        "\n",
        "def show_progress(rewards_batch, log, percentile, reward_range=[-990, +10]):\n",
        "    \"\"\"\n",
        "    A convenience function that displays training progress.\n",
        "    No cool math here, just charts.\n",
        "    \"\"\"\n",
        "\n",
        "    mean_reward = np.mean(rewards_batch)\n",
        "    threshold = np.percentile(rewards_batch, percentile)\n",
        "    log.append([mean_reward, threshold])\n",
        "\n",
        "    clear_output(True)\n",
        "    print(\"mean reward = %.3f, threshold=%.3f\" % (mean_reward, threshold))\n",
        "    plt.figure(figsize=[8, 4])\n",
        "    plt.subplot(1, 2, 1)\n",
        "    plt.plot(list(zip(*log))[0], label=\"Mean rewards\")\n",
        "    plt.plot(list(zip(*log))[1], label=\"Reward thresholds\")\n",
        "    plt.legend()\n",
        "    plt.grid()\n",
        "\n",
        "    plt.subplot(1, 2, 2)\n",
        "    plt.hist(rewards_batch, range=reward_range)\n",
        "    plt.vlines(\n",
        "        [np.percentile(rewards_batch, percentile)],\n",
        "        [0],\n",
        "        [100],\n",
        "        label=\"percentile\",\n",
        "        color=\"red\",\n",
        "    )\n",
        "    plt.legend()\n",
        "    plt.grid()\n",
        "\n",
        "    plt.show()\n"
      ]
    },
    {
      "cell_type": "code",
      "source": [
        "sessions = [generate_session(env, agent) for i in range(n_sessions)]\n",
        "sessions[1]"
      ],
      "metadata": {
        "id": "CxS_PNKFRSpt",
        "outputId": "a136a9b9-b595-4243-987b-ffb0f3bda558",
        "colab": {
          "base_uri": "https://localhost:8080/"
        }
      },
      "execution_count": 48,
      "outputs": [
        {
          "output_type": "execute_result",
          "data": {
            "text/plain": [
              "([array([ 0.02594125,  0.04901313,  0.02378333, -0.00361738], dtype=float32),\n",
              "  array([ 0.02692151,  0.24378607,  0.02371098, -0.28870252], dtype=float32),\n",
              "  array([0.03179723, 0.04833416, 0.01793693, 0.01136331], dtype=float32),\n",
              "  array([ 0.03276392,  0.24319434,  0.0181642 , -0.27560675], dtype=float32),\n",
              "  array([ 0.03762781,  0.43805248,  0.01265206, -0.5625058 ], dtype=float32),\n",
              "  array([ 0.04638885,  0.63299465,  0.00140195, -0.851176  ], dtype=float32),\n",
              "  array([ 0.05904875,  0.4378536 , -0.01562157, -0.55805254], dtype=float32),\n",
              "  array([ 0.06780582,  0.24295437, -0.02678262, -0.27033195], dtype=float32),\n",
              "  array([ 0.07266491,  0.04822465, -0.03218926,  0.01378473], dtype=float32),\n",
              "  array([ 0.0736294 ,  0.2437931 , -0.03191357, -0.288878  ], dtype=float32),\n",
              "  array([ 0.07850526,  0.04914043, -0.03769113, -0.00642865], dtype=float32),\n",
              "  array([ 0.07948807, -0.14542128, -0.0378197 ,  0.27412808], dtype=float32),\n",
              "  array([ 0.07657965,  0.05021931, -0.03233714, -0.03023931], dtype=float32),\n",
              "  array([ 0.07758403,  0.2457897 , -0.03294193, -0.33294702], dtype=float32),\n",
              "  array([ 0.08249982,  0.44136468, -0.03960087, -0.63583344], dtype=float32),\n",
              "  array([ 0.09132712,  0.24681675, -0.05231754, -0.35588   ], dtype=float32),\n",
              "  array([ 0.09626345,  0.442642  , -0.05943514, -0.6645903 ], dtype=float32),\n",
              "  array([ 0.10511629,  0.248395  , -0.07272694, -0.39119792], dtype=float32),\n",
              "  array([ 0.11008419,  0.4444697 , -0.0805509 , -0.70589536], dtype=float32),\n",
              "  array([ 0.11897359,  0.6406098 , -0.09466881, -1.022808  ], dtype=float32),\n",
              "  array([ 0.13178578,  0.8368566 , -0.11512496, -1.343651  ], dtype=float32),\n",
              "  array([ 0.14852291,  0.6433556 , -0.141998  , -1.089093  ], dtype=float32),\n",
              "  array([ 0.16139002,  0.45036194, -0.16377984, -0.84412336], dtype=float32),\n",
              "  array([ 0.17039727,  0.25780827, -0.18066232, -0.6070943 ], dtype=float32),\n",
              "  array([ 0.17555343,  0.4549349 , -0.1928042 , -0.9507981 ], dtype=float32)],\n",
              " [np.int64(1),\n",
              "  np.int64(0),\n",
              "  np.int64(1),\n",
              "  np.int64(1),\n",
              "  np.int64(1),\n",
              "  np.int64(0),\n",
              "  np.int64(0),\n",
              "  np.int64(0),\n",
              "  np.int64(1),\n",
              "  np.int64(0),\n",
              "  np.int64(0),\n",
              "  np.int64(1),\n",
              "  np.int64(1),\n",
              "  np.int64(1),\n",
              "  np.int64(0),\n",
              "  np.int64(1),\n",
              "  np.int64(0),\n",
              "  np.int64(1),\n",
              "  np.int64(1),\n",
              "  np.int64(1),\n",
              "  np.int64(0),\n",
              "  np.int64(0),\n",
              "  np.int64(0),\n",
              "  np.int64(1),\n",
              "  np.int64(1)],\n",
              " 25.0)"
            ]
          },
          "metadata": {},
          "execution_count": 48
        }
      ]
    },
    {
      "cell_type": "code",
      "execution_count": 49,
      "metadata": {
        "id": "euK7WRQiG9zM",
        "outputId": "710d1ab1-27b3-433e-c66b-6dddd6e588c7",
        "colab": {
          "base_uri": "https://localhost:8080/",
          "height": 742
        }
      },
      "outputs": [
        {
          "output_type": "stream",
          "name": "stdout",
          "text": [
            "mean reward = 368.310, threshold=498.000\n"
          ]
        },
        {
          "output_type": "display_data",
          "data": {
            "text/plain": [
              "<Figure size 800x400 with 2 Axes>"
            ],
            "image/png": "[encoded data removed]"
          },
          "metadata": {}
        },
        {
          "output_type": "stream",
          "name": "stdout",
          "text": [
            "You Win! You may stop training now via KeyboardInterrupt.\n"
          ]
        },
        {
          "output_type": "error",
          "ename": "KeyboardInterrupt",
          "evalue": "",
          "traceback": [
            "\u001b[0;31m---------------------------------------------------------------------------\u001b[0m",
            "\u001b[0;31mKeyboardInterrupt\u001b[0m                         Traceback (most recent call last)",
            "\u001b[0;32m<ipython-input-49-f658aefb11a2>\u001b[0m in \u001b[0;36m<cell line: 0>\u001b[0;34m()\u001b[0m\n\u001b[1;32m      5\u001b[0m \u001b[0;32mfor\u001b[0m \u001b[0mi\u001b[0m \u001b[0;32min\u001b[0m \u001b[0mrange\u001b[0m\u001b[0;34m(\u001b[0m\u001b[0;36m100\u001b[0m\u001b[0;34m)\u001b[0m\u001b[0;34m:\u001b[0m\u001b[0;34m\u001b[0m\u001b[0;34m\u001b[0m\u001b[0m\n\u001b[1;32m      6\u001b[0m     \u001b[0;31m# generate new sessions\u001b[0m\u001b[0;34m\u001b[0m\u001b[0;34m\u001b[0m\u001b[0m\n\u001b[0;32m----> 7\u001b[0;31m     \u001b[0msessions\u001b[0m \u001b[0;34m=\u001b[0m \u001b[0;34m[\u001b[0m\u001b[0mgenerate_session\u001b[0m\u001b[0;34m(\u001b[0m\u001b[0menv\u001b[0m\u001b[0;34m,\u001b[0m \u001b[0magent\u001b[0m\u001b[0;34m)\u001b[0m \u001b[0;32mfor\u001b[0m \u001b[0mi\u001b[0m \u001b[0;32min\u001b[0m \u001b[0mrange\u001b[0m\u001b[0;34m(\u001b[0m\u001b[0mn_sessions\u001b[0m\u001b[0;34m)\u001b[0m\u001b[0;34m]\u001b[0m\u001b[0;34m\u001b[0m\u001b[0;34m\u001b[0m\u001b[0m\n\u001b[0m\u001b[1;32m      8\u001b[0m \u001b[0;34m\u001b[0m\u001b[0m\n\u001b[1;32m      9\u001b[0m     \u001b[0mstates_batch\u001b[0m\u001b[0;34m,\u001b[0m \u001b[0mactions_batch\u001b[0m\u001b[0;34m,\u001b[0m \u001b[0mrewards_batch\u001b[0m \u001b[0;34m=\u001b[0m \u001b[0mzip\u001b[0m\u001b[0;34m(\u001b[0m\u001b[0;34m*\u001b[0m\u001b[0msessions\u001b[0m\u001b[0;34m)\u001b[0m\u001b[0;34m\u001b[0m\u001b[0;34m\u001b[0m\u001b[0m\n",
            "\u001b[0;32m<ipython-input-49-f658aefb11a2>\u001b[0m in \u001b[0;36m<listcomp>\u001b[0;34m(.0)\u001b[0m\n\u001b[1;32m      5\u001b[0m \u001b[0;32mfor\u001b[0m \u001b[0mi\u001b[0m \u001b[0;32min\u001b[0m \u001b[0mrange\u001b[0m\u001b[0;34m(\u001b[0m\u001b[0;36m100\u001b[0m\u001b[0;34m)\u001b[0m\u001b[0;34m:\u001b[0m\u001b[0;34m\u001b[0m\u001b[0;34m\u001b[0m\u001b[0m\n\u001b[1;32m      6\u001b[0m     \u001b[0;31m# generate new sessions\u001b[0m\u001b[0;34m\u001b[0m\u001b[0;34m\u001b[0m\u001b[0m\n\u001b[0;32m----> 7\u001b[0;31m     \u001b[0msessions\u001b[0m \u001b[0;34m=\u001b[0m \u001b[0;34m[\u001b[0m\u001b[0mgenerate_session\u001b[0m\u001b[0;34m(\u001b[0m\u001b[0menv\u001b[0m\u001b[0;34m,\u001b[0m \u001b[0magent\u001b[0m\u001b[0;34m)\u001b[0m \u001b[0;32mfor\u001b[0m \u001b[0mi\u001b[0m \u001b[0;32min\u001b[0m \u001b[0mrange\u001b[0m\u001b[0;34m(\u001b[0m\u001b[0mn_sessions\u001b[0m\u001b[0;34m)\u001b[0m\u001b[0;34m]\u001b[0m\u001b[0;34m\u001b[0m\u001b[0;34m\u001b[0m\u001b[0m\n\u001b[0m\u001b[1;32m      8\u001b[0m \u001b[0;34m\u001b[0m\u001b[0m\n\u001b[1;32m      9\u001b[0m     \u001b[0mstates_batch\u001b[0m\u001b[0;34m,\u001b[0m \u001b[0mactions_batch\u001b[0m\u001b[0;34m,\u001b[0m \u001b[0mrewards_batch\u001b[0m \u001b[0;34m=\u001b[0m \u001b[0mzip\u001b[0m\u001b[0;34m(\u001b[0m\u001b[0;34m*\u001b[0m\u001b[0msessions\u001b[0m\u001b[0;34m)\u001b[0m\u001b[0;34m\u001b[0m\u001b[0;34m\u001b[0m\u001b[0m\n",
            "\u001b[0;32m<ipython-input-41-0e7ddcf52bd4>\u001b[0m in \u001b[0;36mgenerate_session\u001b[0;34m(env, agent, t_max)\u001b[0m\n\u001b[1;32m     12\u001b[0m \u001b[0;34m\u001b[0m\u001b[0m\n\u001b[1;32m     13\u001b[0m         \u001b[0;31m# use agent to predict a vector of action probabilities for state :s:\u001b[0m\u001b[0;34m\u001b[0m\u001b[0;34m\u001b[0m\u001b[0m\n\u001b[0;32m---> 14\u001b[0;31m         \u001b[0mprobs\u001b[0m \u001b[0;34m=\u001b[0m \u001b[0magent\u001b[0m\u001b[0;34m.\u001b[0m\u001b[0mpredict_proba\u001b[0m\u001b[0;34m(\u001b[0m\u001b[0;34m[\u001b[0m\u001b[0ms\u001b[0m\u001b[0;34m]\u001b[0m\u001b[0;34m)\u001b[0m\u001b[0;34m[\u001b[0m\u001b[0;36m0\u001b[0m\u001b[0;34m]\u001b[0m\u001b[0;34m\u001b[0m\u001b[0;34m\u001b[0m\u001b[0m\n\u001b[0m\u001b[1;32m     15\u001b[0m \u001b[0;34m\u001b[0m\u001b[0m\n\u001b[1;32m     16\u001b[0m         \u001b[0;32massert\u001b[0m \u001b[0mprobs\u001b[0m\u001b[0;34m.\u001b[0m\u001b[0mshape\u001b[0m \u001b[0;34m==\u001b[0m \u001b[0;34m(\u001b[0m\u001b[0menv\u001b[0m\u001b[0;34m.\u001b[0m\u001b[0maction_space\u001b[0m\u001b[0;34m.\u001b[0m\u001b[0mn\u001b[0m\u001b[0;34m,\u001b[0m\u001b[0;34m)\u001b[0m\u001b[0;34m,\u001b[0m \u001b[0;34m\"make sure probabilities are a vector (hint: np.reshape)\"\u001b[0m\u001b[0;34m\u001b[0m\u001b[0;34m\u001b[0m\u001b[0m\n",
            "\u001b[0;32m/usr/local/lib/python3.11/dist-packages/sklearn/neural_network/_multilayer_perceptron.py\u001b[0m in \u001b[0;36mpredict_proba\u001b[0;34m(self, X)\u001b[0m\n\u001b[1;32m   1262\u001b[0m         \"\"\"\n\u001b[1;32m   1263\u001b[0m         \u001b[0mcheck_is_fitted\u001b[0m\u001b[0;34m(\u001b[0m\u001b[0mself\u001b[0m\u001b[0;34m)\u001b[0m\u001b[0;34m\u001b[0m\u001b[0;34m\u001b[0m\u001b[0m\n\u001b[0;32m-> 1264\u001b[0;31m         \u001b[0my_pred\u001b[0m \u001b[0;34m=\u001b[0m \u001b[0mself\u001b[0m\u001b[0;34m.\u001b[0m\u001b[0m_forward_pass_fast\u001b[0m\u001b[0;34m(\u001b[0m\u001b[0mX\u001b[0m\u001b[0;34m)\u001b[0m\u001b[0;34m\u001b[0m\u001b[0;34m\u001b[0m\u001b[0m\n\u001b[0m\u001b[1;32m   1265\u001b[0m \u001b[0;34m\u001b[0m\u001b[0m\n\u001b[1;32m   1266\u001b[0m         \u001b[0;32mif\u001b[0m \u001b[0mself\u001b[0m\u001b[0;34m.\u001b[0m\u001b[0mn_outputs_\u001b[0m \u001b[0;34m==\u001b[0m \u001b[0;36m1\u001b[0m\u001b[0;34m:\u001b[0m\u001b[0;34m\u001b[0m\u001b[0;34m\u001b[0m\u001b[0m\n",
            "\u001b[0;32m/usr/local/lib/python3.11/dist-packages/sklearn/neural_network/_multilayer_perceptron.py\u001b[0m in \u001b[0;36m_forward_pass_fast\u001b[0;34m(self, X, check_input)\u001b[0m\n\u001b[1;32m    213\u001b[0m             \u001b[0mactivation\u001b[0m \u001b[0;34m+=\u001b[0m \u001b[0mself\u001b[0m\u001b[0;34m.\u001b[0m\u001b[0mintercepts_\u001b[0m\u001b[0;34m[\u001b[0m\u001b[0mi\u001b[0m\u001b[0;34m]\u001b[0m\u001b[0;34m\u001b[0m\u001b[0;34m\u001b[0m\u001b[0m\n\u001b[1;32m    214\u001b[0m             \u001b[0;32mif\u001b[0m \u001b[0mi\u001b[0m \u001b[0;34m!=\u001b[0m \u001b[0mself\u001b[0m\u001b[0;34m.\u001b[0m\u001b[0mn_layers_\u001b[0m \u001b[0;34m-\u001b[0m \u001b[0;36m2\u001b[0m\u001b[0;34m:\u001b[0m\u001b[0;34m\u001b[0m\u001b[0;34m\u001b[0m\u001b[0m\n\u001b[0;32m--> 215\u001b[0;31m                 \u001b[0mhidden_activation\u001b[0m\u001b[0;34m(\u001b[0m\u001b[0mactivation\u001b[0m\u001b[0;34m)\u001b[0m\u001b[0;34m\u001b[0m\u001b[0;34m\u001b[0m\u001b[0m\n\u001b[0m\u001b[1;32m    216\u001b[0m         \u001b[0moutput_activation\u001b[0m \u001b[0;34m=\u001b[0m \u001b[0mACTIVATIONS\u001b[0m\u001b[0;34m[\u001b[0m\u001b[0mself\u001b[0m\u001b[0;34m.\u001b[0m\u001b[0mout_activation_\u001b[0m\u001b[0;34m]\u001b[0m\u001b[0;34m\u001b[0m\u001b[0;34m\u001b[0m\u001b[0m\n\u001b[1;32m    217\u001b[0m         \u001b[0moutput_activation\u001b[0m\u001b[0;34m(\u001b[0m\u001b[0mactivation\u001b[0m\u001b[0;34m)\u001b[0m\u001b[0;34m\u001b[0m\u001b[0;34m\u001b[0m\u001b[0m\n",
            "\u001b[0;32m/usr/local/lib/python3.11/dist-packages/sklearn/neural_network/_base.py\u001b[0m in \u001b[0;36minplace_tanh\u001b[0;34m(X)\u001b[0m\n\u001b[1;32m     32\u001b[0m \u001b[0;34m\u001b[0m\u001b[0m\n\u001b[1;32m     33\u001b[0m \u001b[0;34m\u001b[0m\u001b[0m\n\u001b[0;32m---> 34\u001b[0;31m \u001b[0;32mdef\u001b[0m \u001b[0minplace_tanh\u001b[0m\u001b[0;34m(\u001b[0m\u001b[0mX\u001b[0m\u001b[0;34m)\u001b[0m\u001b[0;34m:\u001b[0m\u001b[0;34m\u001b[0m\u001b[0;34m\u001b[0m\u001b[0m\n\u001b[0m\u001b[1;32m     35\u001b[0m     \"\"\"Compute the hyperbolic tan function inplace.\n\u001b[1;32m     36\u001b[0m \u001b[0;34m\u001b[0m\u001b[0m\n",
            "\u001b[0;31mKeyboardInterrupt\u001b[0m: "
          ]
        }
      ],
      "source": [
        "n_sessions = 100\n",
        "percentile = 70\n",
        "log = []\n",
        "\n",
        "for i in range(100):\n",
        "    # generate new sessions\n",
        "    sessions = [generate_session(env, agent) for i in range(n_sessions)]\n",
        "\n",
        "    states_batch, actions_batch, rewards_batch = zip(*sessions)\n",
        "\n",
        "    elite_states, elite_actions = select_elites(states_batch, actions_batch, rewards_batch, percentile)\n",
        "\n",
        "    agent.fit(elite_states, elite_actions)\n",
        "\n",
        "    show_progress(\n",
        "        rewards_batch, log, percentile, reward_range=[0, np.max(rewards_batch)]\n",
        "    )\n",
        "\n",
        "    if np.mean(rewards_batch) > 190:\n",
        "        print(\"You Win! You may stop training now via KeyboardInterrupt.\")\n"
      ]
    },
    {
      "cell_type": "markdown",
      "metadata": {
        "id": "yeNWKjtsG9zM"
      },
      "source": [
        "# Results"
      ]
    },
    {
      "cell_type": "code",
      "execution_count": 51,
      "metadata": {
        "id": "RJwsWl4kG9zM",
        "outputId": "b2494867-0735-4e5f-9e83-e7168f3d884c",
        "colab": {
          "base_uri": "https://localhost:8080/"
        }
      },
      "outputs": [
        {
          "output_type": "stream",
          "name": "stderr",
          "text": [
            "/usr/local/lib/python3.11/dist-packages/gymnasium/envs/registration.py:519: DeprecationWarning: \u001b[33mWARN: The environment CartPole-v0 is out of date. You should consider upgrading to version `v1`.\u001b[0m\n",
            "  logger.deprecation(\n",
            "/usr/local/lib/python3.11/dist-packages/gymnasium/wrappers/rendering.py:283: UserWarning: \u001b[33mWARN: Overwriting existing videos at /content/videos folder (try specifying a different `video_folder` for the `RecordVideo` wrapper if this is not desired)\u001b[0m\n",
            "  logger.warn(\n"
          ]
        }
      ],
      "source": [
        "# Record sessions\n",
        "\n",
        "from gymnasium.wrappers import RecordVideo\n",
        "\n",
        "with RecordVideo(\n",
        "    env=gym.make(\"CartPole-v0\", render_mode=\"rgb_array\"),\n",
        "    video_folder=\"./videos\",\n",
        "    episode_trigger=lambda episode_number: True,\n",
        ") as env_monitor:\n",
        "    sessions = [generate_session(env_monitor, agent) for _ in range(20)]\n"
      ]
    },
    {
      "cell_type": "code",
      "execution_count": 54,
      "metadata": {
        "id": "kLPXdME7G9zN",
        "outputId": "fa1568da-2473-4b0c-a4f1-daaa3b6555d4",
        "colab": {
          "base_uri": "https://localhost:8080/",
          "height": 501
        }
      },
      "outputs": [
        {
          "output_type": "execute_result",
          "data": {
            "text/plain": [
              "<IPython.core.display.HTML object>"
            ],
            "text/html": [
              "\n",
              "<video width=\"640\" height=\"480\" controls>\n",
              "  <source src=\"data:video/mp4;base64,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\" type=\"video/mp4\">\n",
              "</video>\n"
            ]
          },
          "metadata": {},
          "execution_count": 54
        }
      ],
      "source": [
        "# Show video. This may not work in some setups. If it doesn't\n",
        "# work for you, you can download the videos and view them locally.\n",
        "\n",
        "from pathlib import Path\n",
        "from base64 import b64encode\n",
        "from IPython.display import HTML\n",
        "\n",
        "video_paths = sorted([s for s in Path(\"videos\").iterdir() if s.suffix == \".mp4\"])\n",
        "video_path = video_paths[-1]  # You can also try other indices\n",
        "\n",
        "if \"google.colab\" in sys.modules:\n",
        "    # https://stackoverflow.com/a/57378660/1214547\n",
        "    with video_path.open(\"rb\") as fp:\n",
        "        mp4 = fp.read()\n",
        "    data_url = \"data:video/mp4;base64,\" + b64encode(mp4).decode()\n",
        "else:\n",
        "    data_url = str(video_path)\n",
        "\n",
        "HTML(\n",
        "    \"\"\"\n",
        "<video width=\"640\" height=\"480\" controls>\n",
        "  <source src=\"{}\" type=\"video/mp4\">\n",
        "</video>\n",
        "\"\"\".format(\n",
        "        data_url\n",
        "    )\n",
        ")\n"
      ]
    },
    {
      "cell_type": "markdown",
      "metadata": {
        "id": "6d_3oOQ1G9zN"
      },
      "source": [
        "# Homework part I\n",
        "\n",
        "### Tabular crossentropy method\n",
        "\n",
        "You may have noticed that the taxi problem quickly converges from -100 to a near-optimal score and then descends back into -50/-100. This is in part because the environment has some innate randomness. Namely, the starting points of passenger/driver change from episode to episode.\n",
        "\n",
        "### Tasks\n",
        "- __1.1__ (2 pts) Find out how the algorithm performance changes if you use a different `percentile` and/or `n_sessions`. Provide here some figures so we can see how the hyperparameters influence the performance.\n",
        "- __1.2__ (1 pts) Tune the algorithm to end up with positive average score.\n",
        "\n",
        "It's okay to modify the existing code.\n"
      ]
    },
    {
      "cell_type": "markdown",
      "metadata": {
        "id": "L88LySiVG9zN"
      },
      "source": [
        "```<Describe what you did here>```"
      ]
    },
    {
      "cell_type": "markdown",
      "metadata": {
        "id": "7LpAJc4rG9zN"
      },
      "source": [
        "# Homework part II\n",
        "\n",
        "### Deep crossentropy method\n",
        "\n",
        "By this moment, you should have got enough score on [CartPole-v0](https://gymnasium.farama.org/environments/classic_control/cart_pole/) to consider it solved (see the link). It's time to try something harder.\n",
        "\n",
        "* if you have any trouble with CartPole-v0 and feel stuck, feel free to ask us or your peers for help.\n",
        "\n",
        "### Tasks\n",
        "\n",
        "* __2.1__ (3 pts) Pick one of environments: `MountainCar-v0` or `LunarLander-v2`.\n",
        "  * For MountainCar, get average reward of __at least -150__\n",
        "  * For LunarLander, get average reward of __at least +50__\n",
        "\n",
        "See the tips section below, it's kinda important.\n",
        "__Note:__ If your agent is below the target score, you'll still get some of the points depending on the result, so don't be afraid to submit it.\n",
        "  \n",
        "  \n",
        "* __2.2__ (up to 6 pts) Devise a way to speed up training against the default version\n",
        "  * Obvious improvement: use [`joblib`](https://joblib.readthedocs.io/en/latest/). However, note that you will probably need to spawn a new environment in each of the workers instead of passing it via pickling. (2 pts)\n",
        "  * Try re-using samples from 3-5 last iterations when computing threshold and training. (2 pts)\n",
        "  * Obtain __-100__ at `MountainCar-v0` or __+200__ at `LunarLander-v2` (2 pts). Feel free to experiment with hyperparameters, architectures, schedules etc.\n",
        "  \n",
        "__Please list what you did in Anytask submission form__. This reduces probability that somebody misses something.\n",
        "  \n",
        "  \n",
        "### Tips\n",
        "* Gymnasium pages: [MountainCar](https://gymnasium.farama.org/environments/classic_control/mountain_car/), [LunarLander](https://gymnasium.farama.org/environments/box2d/lunar_lander/)\n",
        "* Sessions for MountainCar may last for 10k+ ticks. Make sure ```t_max``` param is at least 10k.\n",
        " * Also it may be a good idea to cut rewards via \">\" and not \">=\". If 90% of your sessions get reward of -10k and 10% are better, than if you use percentile 20% as threshold, R >= threshold __fails to cut off bad sessions__ while R > threshold works alright.\n",
        "* _issue with gym_: Some versions of gym limit game time by 200 ticks. This will prevent cem training in most cases. Make sure your agent is able to play for the specified __t_max__, and if it isn't, try `env = gym.make(\"MountainCar-v0\").env` or otherwise get rid of TimeLimit wrapper.\n",
        "* If you use old _swig_ lib for LunarLander-v2, you may get an error. See this [issue](https://github.com/openai/gym/issues/100) for solution.\n",
        "* If it doesn't train, it's a good idea to plot reward distribution and record sessions: they may give you some clue. If they don't, call course staff :)\n",
        "* 20-neuron network is probably not enough, feel free to experiment.\n",
        "\n",
        "You may find the following snippet useful:"
      ]
    },
    {
      "cell_type": "code",
      "execution_count": null,
      "metadata": {
        "id": "qcjz-nm_G9zN"
      },
      "outputs": [],
      "source": [
        "def visualize_mountain_car(env, agent):\n",
        "    # Compute policy for all possible x and v (with discretization)\n",
        "    xs = np.linspace(env.min_position, env.max_position, 100)\n",
        "    vs = np.linspace(-env.max_speed, env.max_speed, 100)\n",
        "\n",
        "    grid = np.dstack(np.meshgrid(xs, vs[::-1])).transpose(1, 0, 2)\n",
        "    grid_flat = grid.reshape(len(xs) * len(vs), 2)\n",
        "    probs = (\n",
        "        agent.predict_proba(grid_flat).reshape(len(xs), len(vs), 3).transpose(1, 0, 2)\n",
        "    )\n",
        "\n",
        "    # # The above code is equivalent to the following:\n",
        "    # probs = np.empty((len(vs), len(xs), 3))\n",
        "    # for i, v in enumerate(vs[::-1]):\n",
        "    #     for j, x in enumerate(xs):\n",
        "    #         probs[i, j, :] = agent.predict_proba([[x, v]])[0]\n",
        "\n",
        "    # Draw policy\n",
        "    f, ax = plt.subplots(figsize=(7, 7))\n",
        "    ax.imshow(\n",
        "        probs,\n",
        "        extent=(env.min_position, env.max_position, -env.max_speed, env.max_speed),\n",
        "        aspect=\"auto\",\n",
        "    )\n",
        "    ax.set_title(\"Learned policy: red=left, green=nothing, blue=right\")\n",
        "    ax.set_xlabel(\"position (x)\")\n",
        "    ax.set_ylabel(\"velocity (v)\")\n",
        "\n",
        "    # Sample a trajectory and draw it\n",
        "    states, actions, _ = generate_session(env, agent)\n",
        "    states = np.array(states)\n",
        "    ax.plot(states[:, 0], states[:, 1], color=\"white\")\n",
        "\n",
        "    # Draw every 3rd action from the trajectory\n",
        "    for (x, v), a in zip(states[::3], actions[::3]):\n",
        "        if a == 0:\n",
        "            plt.arrow(x, v, -0.1, 0, color=\"white\", head_length=0.02)\n",
        "        elif a == 2:\n",
        "            plt.arrow(x, v, 0.1, 0, color=\"white\", head_length=0.02)\n",
        "\n",
        "\n",
        "with gym.make(\"MountainCar-v0\", render_mode=\"rgb_arrary\").env as env:\n",
        "    visualize_mountain_car(env, agent)\n"
      ]
    },
    {
      "cell_type": "markdown",
      "metadata": {
        "id": "Dzk41lDPG9zO"
      },
      "source": [
        "### Bonus tasks\n",
        "\n",
        "* __2.3 bonus__ (2 pts) Try to find a network architecture and training params that solve __both__ environments above (_Points depend on implementation. If you attempted this task, please mention it in Anytask submission._)\n",
        "\n",
        "* __2.4 bonus__ (4 pts) Solve continuous action space task with `MLPRegressor` or similar.\n",
        "  * Since your agent only predicts the \"expected\" action, you will have to add noise to ensure exploration.\n",
        "  * Choose one of [MountainCarContinuous-v0](https://gymnasium.farama.org/environments/classic_control/mountain_car_continuous/) (90+ pts to solve), [LunarLanderContinuous-v2](https://gymnasium.farama.org/environments/box2d/lunar_lander/) (`env = gym.make(\"LunarLander-v2\", continuous=True)`)(200+ pts to solve)\n",
        "  * 4 points for solving. Slightly less for getting some results below solution threshold. Note that discrete and continuous environments may have slightly different rules, aside from action spaces."
      ]
    }
  ],
  "metadata": {
    "colab": {
      "provenance": []
    },
    "kernelspec": {
      "display_name": "Python 3",
      "language": "python",
      "name": "python3"
    },
    "language_info": {
      "codemirror_mode": {
        "name": "ipython",
        "version": 3
      },
      "file_extension": ".py",
      "mimetype": "text/x-python",
      "name": "python",
      "nbconvert_exporter": "python",
      "pygments_lexer": "ipython3",
      "version": "3.8.5"
    }
  },
  "nbformat": 4,
  "nbformat_minor": 0
}